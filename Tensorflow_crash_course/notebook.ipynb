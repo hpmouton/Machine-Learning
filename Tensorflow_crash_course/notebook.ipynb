{
 "cells": [
  {
   "cell_type": "markdown",
   "metadata": {},
   "source": [
    "## 1.Imports"
   ]
  },
  {
   "cell_type": "code",
   "execution_count": 2,
   "metadata": {},
   "outputs": [],
   "source": [
    "import pandas as pd\n",
    "from sklearn.model_selection import train_test_split"
   ]
  },
  {
   "cell_type": "code",
   "execution_count": 4,
   "metadata": {},
   "outputs": [],
   "source": [
    "df = pd.read_csv('Churn.csv')"
   ]
  },
  {
   "cell_type": "code",
   "execution_count": 6,
   "metadata": {},
   "outputs": [],
   "source": [
    "X = pd.get_dummies(df.drop(['Churn', 'Customer ID'], axis=1))\n",
    "y = df['Churn'].apply(lambda x: 1 if x=='Yes' else 0)"
   ]
  },
  {
   "cell_type": "code",
   "execution_count": 7,
   "metadata": {},
   "outputs": [],
   "source": [
    "X_train, X_test, y_train, y_test = train_test_split(X, y, test_size=.2)"
   ]
  },
  {
   "cell_type": "code",
   "execution_count": 8,
   "metadata": {},
   "outputs": [
    {
     "data": {
      "text/plain": [
       "2400    0\n",
       "3680    1\n",
       "2973    0\n",
       "5463    0\n",
       "2007    1\n",
       "Name: Churn, dtype: int64"
      ]
     },
     "execution_count": 8,
     "metadata": {},
     "output_type": "execute_result"
    }
   ],
   "source": [
    "y_train.head()"
   ]
  },
  {
   "cell_type": "markdown",
   "metadata": {},
   "source": [
    "## 2. Dependancies"
   ]
  },
  {
   "cell_type": "code",
   "execution_count": 9,
   "metadata": {},
   "outputs": [],
   "source": [
    "from tensorflow.keras.models import Sequential, load_model\n",
    "from tensorflow.keras.layers import Dense\n",
    "from sklearn.metrics import accuracy_score"
   ]
  },
  {
   "cell_type": "markdown",
   "metadata": {},
   "source": [
    "## 3. Tensorflow sequence model"
   ]
  },
  {
   "cell_type": "code",
   "execution_count": 10,
   "metadata": {},
   "outputs": [],
   "source": [
    "model = Sequential()\n",
    "model.add(Dense(units=32, activation='relu', input_dim=len(X_train.columns)))\n",
    "model.add(Dense(units=64, activation='relu'))\n",
    "model.add(Dense(units=1, activation='sigmoid'))"
   ]
  },
  {
   "cell_type": "code",
   "execution_count": 13,
   "metadata": {},
   "outputs": [],
   "source": [
    "model.compile(loss='binary_crossentropy', optimizer='sgd', metrics='accuracy')"
   ]
  },
  {
   "cell_type": "code",
   "execution_count": 14,
   "metadata": {},
   "outputs": [
    {
     "name": "stdout",
     "output_type": "stream",
     "text": [
      "Model: \"sequential\"\n",
      "_________________________________________________________________\n",
      " Layer (type)                Output Shape              Param #   \n",
      "=================================================================\n",
      " dense (Dense)               (None, 32)                210432    \n",
      "                                                                 \n",
      " dense_1 (Dense)             (None, 64)                2112      \n",
      "                                                                 \n",
      " dense_2 (Dense)             (None, 1)                 65        \n",
      "                                                                 \n",
      "=================================================================\n",
      "Total params: 212,609\n",
      "Trainable params: 212,609\n",
      "Non-trainable params: 0\n",
      "_________________________________________________________________\n"
     ]
    }
   ],
   "source": [
    "model.summary()"
   ]
  },
  {
   "cell_type": "markdown",
   "metadata": {},
   "source": [
    "## 4. Fit, evaluate & predict"
   ]
  },
  {
   "cell_type": "code",
   "execution_count": 17,
   "metadata": {},
   "outputs": [
    {
     "name": "stdout",
     "output_type": "stream",
     "text": [
      "Epoch 1/200\n",
      "177/177 [==============================] - 0s 3ms/step - loss: 0.4342 - accuracy: 0.7915\n",
      "Epoch 2/200\n",
      "177/177 [==============================] - 0s 3ms/step - loss: 0.4347 - accuracy: 0.7901\n",
      "Epoch 3/200\n",
      "177/177 [==============================] - 0s 3ms/step - loss: 0.4332 - accuracy: 0.7961\n",
      "Epoch 4/200\n",
      "177/177 [==============================] - 0s 3ms/step - loss: 0.4350 - accuracy: 0.7929\n",
      "Epoch 5/200\n",
      "177/177 [==============================] - 0s 3ms/step - loss: 0.4343 - accuracy: 0.7966\n",
      "Epoch 6/200\n",
      "177/177 [==============================] - 0s 3ms/step - loss: 0.4347 - accuracy: 0.7915\n",
      "Epoch 7/200\n",
      "177/177 [==============================] - 0s 3ms/step - loss: 0.4351 - accuracy: 0.7936\n",
      "Epoch 8/200\n",
      "177/177 [==============================] - 1s 3ms/step - loss: 0.4303 - accuracy: 0.7918\n",
      "Epoch 9/200\n",
      "177/177 [==============================] - 1s 3ms/step - loss: 0.4342 - accuracy: 0.7925\n",
      "Epoch 10/200\n",
      "177/177 [==============================] - 1s 3ms/step - loss: 0.4286 - accuracy: 0.7956\n",
      "Epoch 11/200\n",
      "177/177 [==============================] - 0s 3ms/step - loss: 0.4347 - accuracy: 0.7860\n",
      "Epoch 12/200\n",
      "177/177 [==============================] - 1s 3ms/step - loss: 0.4338 - accuracy: 0.7936\n",
      "Epoch 13/200\n",
      "177/177 [==============================] - 1s 4ms/step - loss: 0.4303 - accuracy: 0.7925\n",
      "Epoch 14/200\n",
      "177/177 [==============================] - 1s 3ms/step - loss: 0.4295 - accuracy: 0.7957\n",
      "Epoch 15/200\n",
      "177/177 [==============================] - 1s 4ms/step - loss: 0.4345 - accuracy: 0.7927\n",
      "Epoch 16/200\n",
      "177/177 [==============================] - 1s 3ms/step - loss: 0.4303 - accuracy: 0.7913\n",
      "Epoch 17/200\n",
      "177/177 [==============================] - 1s 3ms/step - loss: 0.4324 - accuracy: 0.7934\n",
      "Epoch 18/200\n",
      "177/177 [==============================] - 0s 3ms/step - loss: 0.4295 - accuracy: 0.7924\n",
      "Epoch 19/200\n",
      "177/177 [==============================] - 0s 2ms/step - loss: 0.4333 - accuracy: 0.7938\n",
      "Epoch 20/200\n",
      "177/177 [==============================] - 0s 3ms/step - loss: 0.4315 - accuracy: 0.7931\n",
      "Epoch 21/200\n",
      "177/177 [==============================] - 0s 3ms/step - loss: 0.4327 - accuracy: 0.7922\n",
      "Epoch 22/200\n",
      "177/177 [==============================] - 0s 2ms/step - loss: 0.4301 - accuracy: 0.7924\n",
      "Epoch 23/200\n",
      "177/177 [==============================] - 0s 2ms/step - loss: 0.4273 - accuracy: 0.7927\n",
      "Epoch 24/200\n",
      "177/177 [==============================] - 0s 2ms/step - loss: 0.4305 - accuracy: 0.7966\n",
      "Epoch 25/200\n",
      "177/177 [==============================] - 0s 3ms/step - loss: 0.4299 - accuracy: 0.7943\n",
      "Epoch 26/200\n",
      "177/177 [==============================] - 0s 3ms/step - loss: 0.4302 - accuracy: 0.7952\n",
      "Epoch 27/200\n",
      "177/177 [==============================] - 0s 3ms/step - loss: 0.4314 - accuracy: 0.7968\n",
      "Epoch 28/200\n",
      "177/177 [==============================] - 0s 3ms/step - loss: 0.4359 - accuracy: 0.7931\n",
      "Epoch 29/200\n",
      "177/177 [==============================] - 1s 3ms/step - loss: 0.4280 - accuracy: 0.7945\n",
      "Epoch 30/200\n",
      "177/177 [==============================] - 0s 2ms/step - loss: 0.4292 - accuracy: 0.7970\n",
      "Epoch 31/200\n",
      "177/177 [==============================] - 0s 3ms/step - loss: 0.4298 - accuracy: 0.7929\n",
      "Epoch 32/200\n",
      "177/177 [==============================] - 1s 3ms/step - loss: 0.4307 - accuracy: 0.7941\n",
      "Epoch 33/200\n",
      "177/177 [==============================] - 1s 4ms/step - loss: 0.4322 - accuracy: 0.7943\n",
      "Epoch 34/200\n",
      "177/177 [==============================] - 1s 4ms/step - loss: 0.4290 - accuracy: 0.7929\n",
      "Epoch 35/200\n",
      "177/177 [==============================] - 0s 3ms/step - loss: 0.4281 - accuracy: 0.7954\n",
      "Epoch 36/200\n",
      "177/177 [==============================] - 1s 4ms/step - loss: 0.4297 - accuracy: 0.7966\n",
      "Epoch 37/200\n",
      "177/177 [==============================] - 1s 3ms/step - loss: 0.4288 - accuracy: 0.7959\n",
      "Epoch 38/200\n",
      "177/177 [==============================] - 1s 3ms/step - loss: 0.4299 - accuracy: 0.7945\n",
      "Epoch 39/200\n",
      "177/177 [==============================] - 1s 4ms/step - loss: 0.4315 - accuracy: 0.7938\n",
      "Epoch 40/200\n",
      "177/177 [==============================] - 1s 4ms/step - loss: 0.4260 - accuracy: 0.7950\n",
      "Epoch 41/200\n",
      "177/177 [==============================] - 1s 3ms/step - loss: 0.4278 - accuracy: 0.7970\n",
      "Epoch 42/200\n",
      "177/177 [==============================] - 0s 3ms/step - loss: 0.4277 - accuracy: 0.7977\n",
      "Epoch 43/200\n",
      "177/177 [==============================] - 1s 4ms/step - loss: 0.4270 - accuracy: 0.7975\n",
      "Epoch 44/200\n",
      "177/177 [==============================] - 1s 4ms/step - loss: 0.4265 - accuracy: 0.7947\n",
      "Epoch 45/200\n",
      "177/177 [==============================] - 1s 3ms/step - loss: 0.4277 - accuracy: 0.7929\n",
      "Epoch 46/200\n",
      "177/177 [==============================] - 1s 3ms/step - loss: 0.4278 - accuracy: 0.7929\n",
      "Epoch 47/200\n",
      "177/177 [==============================] - 1s 5ms/step - loss: 0.4265 - accuracy: 0.7941\n",
      "Epoch 48/200\n",
      "177/177 [==============================] - 1s 4ms/step - loss: 0.4269 - accuracy: 0.7954\n",
      "Epoch 49/200\n",
      "177/177 [==============================] - 1s 4ms/step - loss: 0.4244 - accuracy: 0.8018\n",
      "Epoch 50/200\n",
      "177/177 [==============================] - 1s 4ms/step - loss: 0.4247 - accuracy: 0.7996\n",
      "Epoch 51/200\n",
      "177/177 [==============================] - 1s 4ms/step - loss: 0.4279 - accuracy: 0.7952\n",
      "Epoch 52/200\n",
      "177/177 [==============================] - 1s 4ms/step - loss: 0.4248 - accuracy: 0.7982\n",
      "Epoch 53/200\n",
      "177/177 [==============================] - 1s 3ms/step - loss: 0.4276 - accuracy: 0.7940\n",
      "Epoch 54/200\n",
      "177/177 [==============================] - 1s 4ms/step - loss: 0.4275 - accuracy: 0.7988\n",
      "Epoch 55/200\n",
      "177/177 [==============================] - 1s 4ms/step - loss: 0.4280 - accuracy: 0.7957\n",
      "Epoch 56/200\n",
      "177/177 [==============================] - 1s 4ms/step - loss: 0.4277 - accuracy: 0.7933\n",
      "Epoch 57/200\n",
      "177/177 [==============================] - 1s 4ms/step - loss: 0.4260 - accuracy: 0.7936\n",
      "Epoch 58/200\n",
      "177/177 [==============================] - 1s 3ms/step - loss: 0.4253 - accuracy: 0.7963\n",
      "Epoch 59/200\n",
      "177/177 [==============================] - 1s 3ms/step - loss: 0.4255 - accuracy: 0.7972\n",
      "Epoch 60/200\n",
      "177/177 [==============================] - 1s 3ms/step - loss: 0.4267 - accuracy: 0.7970\n",
      "Epoch 61/200\n",
      "177/177 [==============================] - 1s 3ms/step - loss: 0.4244 - accuracy: 0.7938\n",
      "Epoch 62/200\n",
      "177/177 [==============================] - 1s 3ms/step - loss: 0.4215 - accuracy: 0.7998\n",
      "Epoch 63/200\n",
      "177/177 [==============================] - 1s 3ms/step - loss: 0.4258 - accuracy: 0.7957\n",
      "Epoch 64/200\n",
      "177/177 [==============================] - 1s 3ms/step - loss: 0.4239 - accuracy: 0.7991\n",
      "Epoch 65/200\n",
      "177/177 [==============================] - 1s 3ms/step - loss: 0.4266 - accuracy: 0.7961\n",
      "Epoch 66/200\n",
      "177/177 [==============================] - 1s 3ms/step - loss: 0.4241 - accuracy: 0.8005\n",
      "Epoch 67/200\n",
      "177/177 [==============================] - 1s 3ms/step - loss: 0.4255 - accuracy: 0.7977\n",
      "Epoch 68/200\n",
      "177/177 [==============================] - 1s 3ms/step - loss: 0.4299 - accuracy: 0.7970\n",
      "Epoch 69/200\n",
      "177/177 [==============================] - 1s 3ms/step - loss: 0.4235 - accuracy: 0.7980\n",
      "Epoch 70/200\n",
      "177/177 [==============================] - 1s 3ms/step - loss: 0.4250 - accuracy: 0.7961\n",
      "Epoch 71/200\n",
      "177/177 [==============================] - 1s 3ms/step - loss: 0.4220 - accuracy: 0.8030\n",
      "Epoch 72/200\n",
      "177/177 [==============================] - 1s 3ms/step - loss: 0.4254 - accuracy: 0.7941\n",
      "Epoch 73/200\n",
      "177/177 [==============================] - 1s 3ms/step - loss: 0.4249 - accuracy: 0.7980\n",
      "Epoch 74/200\n",
      "177/177 [==============================] - 1s 3ms/step - loss: 0.4238 - accuracy: 0.7949\n",
      "Epoch 75/200\n",
      "177/177 [==============================] - 1s 3ms/step - loss: 0.4251 - accuracy: 0.7995\n",
      "Epoch 76/200\n",
      "177/177 [==============================] - 1s 3ms/step - loss: 0.4245 - accuracy: 0.7977\n",
      "Epoch 77/200\n",
      "177/177 [==============================] - 1s 4ms/step - loss: 0.4242 - accuracy: 0.7970\n",
      "Epoch 78/200\n",
      "177/177 [==============================] - 1s 3ms/step - loss: 0.4254 - accuracy: 0.7986\n",
      "Epoch 79/200\n",
      "177/177 [==============================] - 1s 3ms/step - loss: 0.4213 - accuracy: 0.7979\n",
      "Epoch 80/200\n",
      "177/177 [==============================] - 1s 3ms/step - loss: 0.4263 - accuracy: 0.8014\n",
      "Epoch 81/200\n",
      "177/177 [==============================] - 1s 3ms/step - loss: 0.4232 - accuracy: 0.8000\n",
      "Epoch 82/200\n",
      "177/177 [==============================] - 1s 3ms/step - loss: 0.4229 - accuracy: 0.7988\n",
      "Epoch 83/200\n",
      "177/177 [==============================] - 1s 3ms/step - loss: 0.4230 - accuracy: 0.8004\n",
      "Epoch 84/200\n",
      "177/177 [==============================] - 1s 3ms/step - loss: 0.4224 - accuracy: 0.8000\n",
      "Epoch 85/200\n",
      "177/177 [==============================] - 1s 3ms/step - loss: 0.4215 - accuracy: 0.7945\n",
      "Epoch 86/200\n",
      "177/177 [==============================] - 1s 3ms/step - loss: 0.4262 - accuracy: 0.7980\n",
      "Epoch 87/200\n",
      "177/177 [==============================] - 1s 3ms/step - loss: 0.4230 - accuracy: 0.7970\n",
      "Epoch 88/200\n",
      "177/177 [==============================] - 1s 3ms/step - loss: 0.4217 - accuracy: 0.8023\n",
      "Epoch 89/200\n",
      "177/177 [==============================] - 1s 3ms/step - loss: 0.4209 - accuracy: 0.8011\n",
      "Epoch 90/200\n",
      "177/177 [==============================] - 1s 3ms/step - loss: 0.4201 - accuracy: 0.8004\n",
      "Epoch 91/200\n",
      "177/177 [==============================] - 1s 3ms/step - loss: 0.4229 - accuracy: 0.7961\n",
      "Epoch 92/200\n",
      "177/177 [==============================] - 1s 3ms/step - loss: 0.4236 - accuracy: 0.8009\n",
      "Epoch 93/200\n",
      "177/177 [==============================] - 1s 3ms/step - loss: 0.4236 - accuracy: 0.7977\n",
      "Epoch 94/200\n",
      "177/177 [==============================] - 1s 4ms/step - loss: 0.4215 - accuracy: 0.8002\n",
      "Epoch 95/200\n",
      "177/177 [==============================] - 1s 3ms/step - loss: 0.4236 - accuracy: 0.7998\n",
      "Epoch 96/200\n",
      "177/177 [==============================] - 1s 3ms/step - loss: 0.4232 - accuracy: 0.7972\n",
      "Epoch 97/200\n",
      "177/177 [==============================] - 1s 3ms/step - loss: 0.4210 - accuracy: 0.7988\n",
      "Epoch 98/200\n",
      "177/177 [==============================] - 1s 3ms/step - loss: 0.4202 - accuracy: 0.7966\n",
      "Epoch 99/200\n",
      "177/177 [==============================] - 1s 3ms/step - loss: 0.4232 - accuracy: 0.7933\n",
      "Epoch 100/200\n",
      "177/177 [==============================] - 1s 3ms/step - loss: 0.4231 - accuracy: 0.7952\n",
      "Epoch 101/200\n",
      "177/177 [==============================] - 1s 3ms/step - loss: 0.4230 - accuracy: 0.7991\n",
      "Epoch 102/200\n",
      "177/177 [==============================] - 1s 3ms/step - loss: 0.4243 - accuracy: 0.7991\n",
      "Epoch 103/200\n",
      "177/177 [==============================] - 1s 3ms/step - loss: 0.4202 - accuracy: 0.8021\n",
      "Epoch 104/200\n",
      "177/177 [==============================] - 1s 3ms/step - loss: 0.4220 - accuracy: 0.7984\n",
      "Epoch 105/200\n",
      "177/177 [==============================] - 1s 3ms/step - loss: 0.4222 - accuracy: 0.7988\n",
      "Epoch 106/200\n",
      "177/177 [==============================] - 1s 3ms/step - loss: 0.4249 - accuracy: 0.7995\n",
      "Epoch 107/200\n",
      "177/177 [==============================] - 1s 3ms/step - loss: 0.4225 - accuracy: 0.7961\n",
      "Epoch 108/200\n",
      "177/177 [==============================] - 1s 3ms/step - loss: 0.4204 - accuracy: 0.8014\n",
      "Epoch 109/200\n",
      "177/177 [==============================] - 1s 3ms/step - loss: 0.4266 - accuracy: 0.7929\n",
      "Epoch 110/200\n",
      "177/177 [==============================] - 1s 3ms/step - loss: 0.4226 - accuracy: 0.7989\n",
      "Epoch 111/200\n",
      "177/177 [==============================] - 1s 3ms/step - loss: 0.4219 - accuracy: 0.7938\n",
      "Epoch 112/200\n",
      "177/177 [==============================] - 1s 3ms/step - loss: 0.4215 - accuracy: 0.7959\n",
      "Epoch 113/200\n",
      "177/177 [==============================] - 1s 3ms/step - loss: 0.4212 - accuracy: 0.8005\n",
      "Epoch 114/200\n",
      "177/177 [==============================] - 1s 3ms/step - loss: 0.4251 - accuracy: 0.7975\n",
      "Epoch 115/200\n",
      "177/177 [==============================] - 1s 3ms/step - loss: 0.4212 - accuracy: 0.8020\n",
      "Epoch 116/200\n",
      "177/177 [==============================] - 1s 3ms/step - loss: 0.4226 - accuracy: 0.7996\n",
      "Epoch 117/200\n",
      "177/177 [==============================] - 1s 3ms/step - loss: 0.4217 - accuracy: 0.8007\n",
      "Epoch 118/200\n",
      "177/177 [==============================] - 1s 3ms/step - loss: 0.4196 - accuracy: 0.8007\n",
      "Epoch 119/200\n",
      "177/177 [==============================] - 1s 3ms/step - loss: 0.4211 - accuracy: 0.8014\n",
      "Epoch 120/200\n",
      "177/177 [==============================] - 1s 3ms/step - loss: 0.4208 - accuracy: 0.7929\n",
      "Epoch 121/200\n",
      "177/177 [==============================] - 1s 3ms/step - loss: 0.4213 - accuracy: 0.8009\n",
      "Epoch 122/200\n",
      "177/177 [==============================] - 1s 3ms/step - loss: 0.4212 - accuracy: 0.8007\n",
      "Epoch 123/200\n",
      "177/177 [==============================] - 1s 3ms/step - loss: 0.4198 - accuracy: 0.8016\n",
      "Epoch 124/200\n",
      "177/177 [==============================] - 1s 3ms/step - loss: 0.4213 - accuracy: 0.8007\n",
      "Epoch 125/200\n",
      "177/177 [==============================] - 1s 3ms/step - loss: 0.4220 - accuracy: 0.8034\n",
      "Epoch 126/200\n",
      "177/177 [==============================] - 1s 3ms/step - loss: 0.4213 - accuracy: 0.8007\n",
      "Epoch 127/200\n",
      "177/177 [==============================] - 1s 3ms/step - loss: 0.4226 - accuracy: 0.7991\n",
      "Epoch 128/200\n",
      "177/177 [==============================] - 1s 3ms/step - loss: 0.4204 - accuracy: 0.8044\n",
      "Epoch 129/200\n",
      "177/177 [==============================] - 1s 3ms/step - loss: 0.4212 - accuracy: 0.8014\n",
      "Epoch 130/200\n",
      "177/177 [==============================] - 1s 3ms/step - loss: 0.4198 - accuracy: 0.8011\n",
      "Epoch 131/200\n",
      "177/177 [==============================] - 1s 3ms/step - loss: 0.4205 - accuracy: 0.7925\n",
      "Epoch 132/200\n",
      "177/177 [==============================] - 1s 3ms/step - loss: 0.4200 - accuracy: 0.8048\n",
      "Epoch 133/200\n",
      "177/177 [==============================] - 1s 3ms/step - loss: 0.4224 - accuracy: 0.7968\n",
      "Epoch 134/200\n",
      "177/177 [==============================] - 1s 3ms/step - loss: 0.4180 - accuracy: 0.8028\n",
      "Epoch 135/200\n",
      "177/177 [==============================] - 1s 3ms/step - loss: 0.4226 - accuracy: 0.7993\n",
      "Epoch 136/200\n",
      "177/177 [==============================] - 1s 3ms/step - loss: 0.4222 - accuracy: 0.8004\n",
      "Epoch 137/200\n",
      "177/177 [==============================] - 1s 4ms/step - loss: 0.4200 - accuracy: 0.7966\n",
      "Epoch 138/200\n",
      "177/177 [==============================] - 1s 4ms/step - loss: 0.4216 - accuracy: 0.8025\n",
      "Epoch 139/200\n",
      "177/177 [==============================] - 1s 4ms/step - loss: 0.4208 - accuracy: 0.7966\n",
      "Epoch 140/200\n",
      "177/177 [==============================] - 1s 4ms/step - loss: 0.4207 - accuracy: 0.8005\n",
      "Epoch 141/200\n",
      "177/177 [==============================] - 1s 3ms/step - loss: 0.4198 - accuracy: 0.8012\n",
      "Epoch 142/200\n",
      "177/177 [==============================] - 0s 3ms/step - loss: 0.4207 - accuracy: 0.7977\n",
      "Epoch 143/200\n",
      "177/177 [==============================] - 0s 3ms/step - loss: 0.4189 - accuracy: 0.8004\n",
      "Epoch 144/200\n",
      "177/177 [==============================] - 0s 3ms/step - loss: 0.4186 - accuracy: 0.8037\n",
      "Epoch 145/200\n",
      "177/177 [==============================] - 0s 3ms/step - loss: 0.4169 - accuracy: 0.8034\n",
      "Epoch 146/200\n",
      "177/177 [==============================] - 0s 3ms/step - loss: 0.4200 - accuracy: 0.8041\n",
      "Epoch 147/200\n",
      "177/177 [==============================] - 0s 3ms/step - loss: 0.4196 - accuracy: 0.8020\n",
      "Epoch 148/200\n",
      "177/177 [==============================] - 0s 3ms/step - loss: 0.4187 - accuracy: 0.8005\n",
      "Epoch 149/200\n",
      "177/177 [==============================] - 0s 3ms/step - loss: 0.4204 - accuracy: 0.8032\n",
      "Epoch 150/200\n",
      "177/177 [==============================] - 0s 3ms/step - loss: 0.4192 - accuracy: 0.7986\n",
      "Epoch 151/200\n",
      "177/177 [==============================] - 0s 3ms/step - loss: 0.4231 - accuracy: 0.7993\n",
      "Epoch 152/200\n",
      "177/177 [==============================] - 1s 3ms/step - loss: 0.4190 - accuracy: 0.7982\n",
      "Epoch 153/200\n",
      "177/177 [==============================] - 1s 3ms/step - loss: 0.4184 - accuracy: 0.8002\n",
      "Epoch 154/200\n",
      "177/177 [==============================] - 0s 3ms/step - loss: 0.4201 - accuracy: 0.7982\n",
      "Epoch 155/200\n",
      "177/177 [==============================] - 0s 3ms/step - loss: 0.4196 - accuracy: 0.7991\n",
      "Epoch 156/200\n",
      "177/177 [==============================] - 0s 3ms/step - loss: 0.4202 - accuracy: 0.8012\n",
      "Epoch 157/200\n",
      "177/177 [==============================] - 0s 3ms/step - loss: 0.4198 - accuracy: 0.8002\n",
      "Epoch 158/200\n",
      "177/177 [==============================] - 0s 3ms/step - loss: 0.4188 - accuracy: 0.8018\n",
      "Epoch 159/200\n",
      "177/177 [==============================] - 0s 3ms/step - loss: 0.4175 - accuracy: 0.8004\n",
      "Epoch 160/200\n",
      "177/177 [==============================] - 0s 3ms/step - loss: 0.4182 - accuracy: 0.7973\n",
      "Epoch 161/200\n",
      "177/177 [==============================] - 0s 3ms/step - loss: 0.4186 - accuracy: 0.8018\n",
      "Epoch 162/200\n",
      "177/177 [==============================] - 0s 3ms/step - loss: 0.4195 - accuracy: 0.8018\n",
      "Epoch 163/200\n",
      "177/177 [==============================] - 1s 3ms/step - loss: 0.4176 - accuracy: 0.7980\n",
      "Epoch 164/200\n",
      "177/177 [==============================] - 1s 3ms/step - loss: 0.4203 - accuracy: 0.8023\n",
      "Epoch 165/200\n",
      "177/177 [==============================] - 1s 3ms/step - loss: 0.4195 - accuracy: 0.8055\n",
      "Epoch 166/200\n",
      "177/177 [==============================] - 1s 4ms/step - loss: 0.4202 - accuracy: 0.8009\n",
      "Epoch 167/200\n",
      "177/177 [==============================] - 1s 4ms/step - loss: 0.4183 - accuracy: 0.8030\n",
      "Epoch 168/200\n",
      "177/177 [==============================] - 1s 4ms/step - loss: 0.4196 - accuracy: 0.7979\n",
      "Epoch 169/200\n",
      "177/177 [==============================] - 1s 3ms/step - loss: 0.4178 - accuracy: 0.8030\n",
      "Epoch 170/200\n",
      "177/177 [==============================] - 1s 3ms/step - loss: 0.4192 - accuracy: 0.7949\n",
      "Epoch 171/200\n",
      "177/177 [==============================] - 1s 3ms/step - loss: 0.4209 - accuracy: 0.8014\n",
      "Epoch 172/200\n",
      "177/177 [==============================] - 1s 3ms/step - loss: 0.4169 - accuracy: 0.8035\n",
      "Epoch 173/200\n",
      "177/177 [==============================] - 1s 3ms/step - loss: 0.4195 - accuracy: 0.8014\n",
      "Epoch 174/200\n",
      "177/177 [==============================] - 1s 3ms/step - loss: 0.4172 - accuracy: 0.7993\n",
      "Epoch 175/200\n",
      "177/177 [==============================] - 1s 3ms/step - loss: 0.4199 - accuracy: 0.7993\n",
      "Epoch 176/200\n",
      "177/177 [==============================] - 1s 3ms/step - loss: 0.4177 - accuracy: 0.8062\n",
      "Epoch 177/200\n",
      "177/177 [==============================] - 1s 3ms/step - loss: 0.4197 - accuracy: 0.8020\n",
      "Epoch 178/200\n",
      "177/177 [==============================] - 1s 3ms/step - loss: 0.4178 - accuracy: 0.7993\n",
      "Epoch 179/200\n",
      "177/177 [==============================] - 1s 3ms/step - loss: 0.4191 - accuracy: 0.8002\n",
      "Epoch 180/200\n",
      "177/177 [==============================] - 1s 3ms/step - loss: 0.4173 - accuracy: 0.7993\n",
      "Epoch 181/200\n",
      "177/177 [==============================] - 1s 3ms/step - loss: 0.4163 - accuracy: 0.8028\n",
      "Epoch 182/200\n",
      "177/177 [==============================] - 1s 3ms/step - loss: 0.4162 - accuracy: 0.8041\n",
      "Epoch 183/200\n",
      "177/177 [==============================] - 1s 3ms/step - loss: 0.4165 - accuracy: 0.8035\n",
      "Epoch 184/200\n",
      "177/177 [==============================] - 1s 3ms/step - loss: 0.4188 - accuracy: 0.7988\n",
      "Epoch 185/200\n",
      "177/177 [==============================] - 1s 3ms/step - loss: 0.4178 - accuracy: 0.8018\n",
      "Epoch 186/200\n",
      "177/177 [==============================] - 1s 3ms/step - loss: 0.4151 - accuracy: 0.8035\n",
      "Epoch 187/200\n",
      "177/177 [==============================] - 1s 3ms/step - loss: 0.4162 - accuracy: 0.8023\n",
      "Epoch 188/200\n",
      "177/177 [==============================] - 1s 3ms/step - loss: 0.4165 - accuracy: 0.8028\n",
      "Epoch 189/200\n",
      "177/177 [==============================] - 1s 3ms/step - loss: 0.4190 - accuracy: 0.8014\n",
      "Epoch 190/200\n",
      "177/177 [==============================] - 1s 3ms/step - loss: 0.4172 - accuracy: 0.8043\n",
      "Epoch 191/200\n",
      "177/177 [==============================] - 1s 4ms/step - loss: 0.4170 - accuracy: 0.8012\n",
      "Epoch 192/200\n",
      "177/177 [==============================] - 1s 4ms/step - loss: 0.4187 - accuracy: 0.7991\n",
      "Epoch 193/200\n",
      "177/177 [==============================] - 1s 3ms/step - loss: 0.4180 - accuracy: 0.7989\n",
      "Epoch 194/200\n",
      "177/177 [==============================] - 1s 3ms/step - loss: 0.4165 - accuracy: 0.8009\n",
      "Epoch 195/200\n",
      "177/177 [==============================] - 1s 3ms/step - loss: 0.4191 - accuracy: 0.8021\n",
      "Epoch 196/200\n",
      "177/177 [==============================] - 1s 3ms/step - loss: 0.4159 - accuracy: 0.8007\n",
      "Epoch 197/200\n",
      "177/177 [==============================] - 1s 3ms/step - loss: 0.4180 - accuracy: 0.8002\n",
      "Epoch 198/200\n",
      "177/177 [==============================] - 1s 3ms/step - loss: 0.4174 - accuracy: 0.8025\n",
      "Epoch 199/200\n",
      "177/177 [==============================] - 1s 3ms/step - loss: 0.4218 - accuracy: 0.7975\n",
      "Epoch 200/200\n",
      "177/177 [==============================] - 1s 3ms/step - loss: 0.4170 - accuracy: 0.8055\n"
     ]
    },
    {
     "data": {
      "text/plain": [
       "<keras.callbacks.History at 0x1f0aa5acc70>"
      ]
     },
     "execution_count": 17,
     "metadata": {},
     "output_type": "execute_result"
    }
   ],
   "source": [
    "model.fit(X_train, y_train, epochs=200, batch_size=32)"
   ]
  },
  {
   "cell_type": "code",
   "execution_count": 18,
   "metadata": {},
   "outputs": [],
   "source": [
    "y_hat = model.predict(X_test)\n",
    "y_hat = [0 if val < 0.5 else 1 for val in y_hat]"
   ]
  },
  {
   "cell_type": "code",
   "execution_count": 19,
   "metadata": {},
   "outputs": [
    {
     "data": {
      "text/plain": [
       "0.7842441447835344"
      ]
     },
     "execution_count": 19,
     "metadata": {},
     "output_type": "execute_result"
    }
   ],
   "source": [
    "accuracy_score(y_test, y_hat)"
   ]
  },
  {
   "cell_type": "markdown",
   "metadata": {},
   "source": [
    "## 5. Save and reload model"
   ]
  },
  {
   "cell_type": "code",
   "execution_count": 20,
   "metadata": {},
   "outputs": [
    {
     "name": "stdout",
     "output_type": "stream",
     "text": [
      "INFO:tensorflow:Assets written to: tfmodel\\assets\n"
     ]
    }
   ],
   "source": [
    "model.save('tfmodel')"
   ]
  },
  {
   "cell_type": "code",
   "execution_count": 21,
   "metadata": {},
   "outputs": [],
   "source": [
    "tfmodel = load_model('tfmodel')"
   ]
  },
  {
   "cell_type": "code",
   "execution_count": 22,
   "metadata": {},
   "outputs": [],
   "source": [
    "y_hat = tfmodel.predict(X_test)\n",
    "y_hat = [0 if val < 0.5 else 1 for val in y_hat]"
   ]
  },
  {
   "cell_type": "code",
   "execution_count": 24,
   "metadata": {},
   "outputs": [],
   "source": [
    "tfmodel_accuracy_score = accuracy_score(y_test, y_hat)"
   ]
  },
  {
   "cell_type": "code",
   "execution_count": 25,
   "metadata": {},
   "outputs": [
    {
     "data": {
      "text/plain": [
       "0.7842441447835344"
      ]
     },
     "execution_count": 25,
     "metadata": {},
     "output_type": "execute_result"
    }
   ],
   "source": [
    "tfmodel_accuracy_score"
   ]
  },
  {
   "cell_type": "code",
   "execution_count": null,
   "metadata": {},
   "outputs": [],
   "source": []
  }
 ],
 "metadata": {
  "interpreter": {
   "hash": "df95319d8ce4e1d89f5365ae10992bc1f65da593082b1d264e8f529830ec2f02"
  },
  "kernelspec": {
   "display_name": "Python 3.10.4 64-bit",
   "language": "python",
   "name": "python3"
  },
  "language_info": {
   "codemirror_mode": {
    "name": "ipython",
    "version": 3
   },
   "file_extension": ".py",
   "mimetype": "text/x-python",
   "name": "python",
   "nbconvert_exporter": "python",
   "pygments_lexer": "ipython3",
   "version": "3.10.4"
  },
  "orig_nbformat": 4
 },
 "nbformat": 4,
 "nbformat_minor": 2
}
